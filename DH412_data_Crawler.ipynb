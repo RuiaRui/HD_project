{
  "nbformat": 4,
  "nbformat_minor": 0,
  "metadata": {
    "colab": {
      "name": "DH412_data_Crawler.ipynb",
      "provenance": [],
      "collapsed_sections": []
    },
    "kernelspec": {
      "name": "python3",
      "display_name": "Python 3"
    },
    "language_info": {
      "name": "python"
    }
  },
  "cells": [
    {
      "cell_type": "code",
      "execution_count": null,
      "metadata": {
        "colab": {
          "base_uri": "https://localhost:8080/"
        },
        "id": "fPIqHuQ6cV4f",
        "outputId": "2eacf4b8-2f8c-4cb0-efea-d444d2a8b6c6"
      },
      "outputs": [
        {
          "output_type": "stream",
          "name": "stdout",
          "text": [
            "Looking in indexes: https://pypi.org/simple, https://us-python.pkg.dev/colab-wheels/public/simple/\n",
            "Collecting google-search-results\n",
            "  Downloading google_search_results-2.4.1.tar.gz (11 kB)\n",
            "Requirement already satisfied: requests in /usr/local/lib/python3.7/dist-packages (from google-search-results) (2.23.0)\n",
            "Requirement already satisfied: chardet<4,>=3.0.2 in /usr/local/lib/python3.7/dist-packages (from requests->google-search-results) (3.0.4)\n",
            "Requirement already satisfied: urllib3!=1.25.0,!=1.25.1,<1.26,>=1.21.1 in /usr/local/lib/python3.7/dist-packages (from requests->google-search-results) (1.24.3)\n",
            "Requirement already satisfied: certifi>=2017.4.17 in /usr/local/lib/python3.7/dist-packages (from requests->google-search-results) (2022.5.18.1)\n",
            "Requirement already satisfied: idna<3,>=2.5 in /usr/local/lib/python3.7/dist-packages (from requests->google-search-results) (2.10)\n",
            "Building wheels for collected packages: google-search-results\n",
            "  Building wheel for google-search-results (setup.py) ... \u001b[?25l\u001b[?25hdone\n",
            "  Created wheel for google-search-results: filename=google_search_results-2.4.1-py3-none-any.whl size=25789 sha256=0ecd7dc9042409003f72eaf23520be42f74a787ef2cae135443537ba728f6dd1\n",
            "  Stored in directory: /root/.cache/pip/wheels/82/a3/c5/364155118f298722dff2f79ae4dd7c91e92b433ad36d6f7e0e\n",
            "Successfully built google-search-results\n",
            "Installing collected packages: google-search-results\n",
            "Successfully installed google-search-results-2.4.1\n"
          ]
        }
      ],
      "source": [
        "! pip install google-search-results "
      ]
    },
    {
      "cell_type": "code",
      "source": [
        "import os\n",
        "from serpapi import GoogleSearch\n",
        "from urllib.parse import urlsplit, parse_qsl\n",
        "import pandas as pd"
      ],
      "metadata": {
        "id": "4CWBS02PfD6G"
      },
      "execution_count": null,
      "outputs": []
    },
    {
      "cell_type": "code",
      "source": [
        "API_KEY = r'0760dfbbb83ecae7b4bb8592b25873167923039a5d5acf75b7131c114a4b2556'\n",
        "author_ids = {}\n",
        "\n",
        "author_ids['Albert Einstein']='qc6CJjYAAAAJ'\n",
        "author_ids['Paul Dirac']='xKhS5MEAAAAJ'"
      ],
      "metadata": {
        "id": "IiVhFDtjiUA2"
      },
      "execution_count": null,
      "outputs": []
    },
    {
      "cell_type": "code",
      "source": [
        "author_search=['William Henry Bragg',]"
      ],
      "metadata": {
        "id": "tGYtZyCmTxnp"
      },
      "execution_count": null,
      "outputs": []
    },
    {
      "cell_type": "code",
      "source": [
        "author_ids.values()"
      ],
      "metadata": {
        "colab": {
          "base_uri": "https://localhost:8080/"
        },
        "id": "iw6osTtqi1yD",
        "outputId": "accfc5a9-35ab-480e-aa78-8edf3fa33e71"
      },
      "execution_count": null,
      "outputs": [
        {
          "output_type": "execute_result",
          "data": {
            "text/plain": [
              "dict_values(['qc6CJjYAAAAJ'])"
            ]
          },
          "metadata": {},
          "execution_count": 30
        }
      ]
    },
    {
      "cell_type": "code",
      "source": [
        "\n",
        "def author_profile_extracter(author_id):\n",
        "    count = 0\n",
        "    papers=[]\n",
        "    \n",
        "    params = {\n",
        "            \"api_key\": API_KEY,      # SerpApi API key\n",
        "            \"engine\": \"google_scholar_author\",    # author results search engine\n",
        "            \"author_id\": author_id,  # search query\n",
        "            \"hl\": \"en\"\n",
        "        }\n",
        "\n",
        "    headers = {\n",
        "            \"User-Agent\": \"Mozilla/5.0 (Windows NT 10.0; Win64; x64) AppleWebKit/537.36 (KHTML, like Gecko) Chrome/98.0.4758.87 Safari/537.36\",\n",
        "            }\n",
        "    search = GoogleSearch(params)\n",
        "    while count < 2:\n",
        "        full_r = search.get_dict()\n",
        "        results = full_r.get(\"articles\", [])\n",
        "        for p in results:\n",
        "            author=p.get('authors')\n",
        "            title=p.get('title')\n",
        "            year=p.get('year')\n",
        "            publication=p.get('publication')\n",
        "            cite_count=p.get('cited_by').get('value')\n",
        "\n",
        "            papers.append({\n",
        "                'author': author,\n",
        "                'title': title,\n",
        "                'year': year,\n",
        "                'publication': publication,\n",
        "                'cite_count': cite_count})\n",
        "            # count =2\n",
        "        if \"next\" in full_r[\"serpapi_pagination\"]:\n",
        "        #         # splits URL in parts as a dict() and update search \"params\" variable to a new page that will be passed to GoogleSearch()\n",
        "            search.params_dict.update(dict(parse_qsl(urlsplit(full_r[\"serpapi_pagination\"][\"next\"]).query)))\n",
        "            count +=1\n",
        "            print(count)\n",
        "\n",
        "    return papers\n"
      ],
      "metadata": {
        "id": "Mvfpo0J9iOLK"
      },
      "execution_count": null,
      "outputs": []
    },
    {
      "cell_type": "code",
      "source": [
        "results = author_profile_extracter(author_ids['Paul Dirac'])"
      ],
      "metadata": {
        "colab": {
          "base_uri": "https://localhost:8080/"
        },
        "id": "Ig0ZeeSPjIgN",
        "outputId": "54045641-35d3-4103-bfcd-f8bd6878d8e3"
      },
      "execution_count": null,
      "outputs": [
        {
          "output_type": "stream",
          "name": "stdout",
          "text": [
            "https://serpapi.com/search\n",
            "1\n",
            "https://serpapi.com/search\n",
            "2\n"
          ]
        }
      ]
    },
    {
      "cell_type": "code",
      "source": [
        "len(results)"
      ],
      "metadata": {
        "id": "GRLkPNiij9jg",
        "colab": {
          "base_uri": "https://localhost:8080/"
        },
        "outputId": "8ad94bc9-658b-4da3-e1f6-99e1496f7be4"
      },
      "execution_count": null,
      "outputs": [
        {
          "output_type": "execute_result",
          "data": {
            "text/plain": [
              "40"
            ]
          },
          "metadata": {},
          "execution_count": 58
        }
      ]
    },
    {
      "cell_type": "code",
      "source": [
        "df = pd.DataFrame(results)\n",
        "df"
      ],
      "metadata": {
        "id": "2q_kkNJ7JkyQ"
      },
      "execution_count": null,
      "outputs": []
    },
    {
      "cell_type": "code",
      "source": [
        "df['year'] = df['year'].apply(int)\n",
        "df = df[(df['year'] > 1920) & (df['year'] < 1934) ]"
      ],
      "metadata": {
        "id": "8jwPW-JIK6r5"
      },
      "execution_count": null,
      "outputs": []
    },
    {
      "cell_type": "code",
      "source": [
        "df = df[['year','author','title','publication']]\n",
        "df"
      ],
      "metadata": {
        "colab": {
          "base_uri": "https://localhost:8080/",
          "height": 457
        },
        "id": "-X_RGJd8LApZ",
        "outputId": "7c9d8033-78f8-4d27-b567-d5954b6b9fc3"
      },
      "execution_count": null,
      "outputs": [
        {
          "output_type": "execute_result",
          "data": {
            "text/plain": [
              "    year                 author  \\\n",
              "5   1928              PAM Dirac   \n",
              "6   1931              PAM Dirac   \n",
              "7   1930              PAM Dirac   \n",
              "8   1927              PAM Dirac   \n",
              "13  1929              PAM Dirac   \n",
              "18  1926              PAM Dirac   \n",
              "19  1930              PAM Dirac   \n",
              "20  1928              PAM Dirac   \n",
              "22  1933              PAM Dirac   \n",
              "27  1925              PAM Dirac   \n",
              "30  1933  PL Kapitza, PAM Dirac   \n",
              "33  1930              PAM Dirac   \n",
              "36  1927              PAM Dirac   \n",
              "\n",
              "                                                title  \\\n",
              "5                  The quantum theory of the electron   \n",
              "6   Quantised singularities in the electromagnetic...   \n",
              "7       Note on exchange phenomena in the Thomas atom   \n",
              "8   The quantum theory of the emission and absorpt...   \n",
              "13         Quantum mechanics of many-electron systems   \n",
              "18                 On the theory of quantum mechanics   \n",
              "19                  A theory of electrons and protons   \n",
              "20        The quantum theory of the electron. Part II   \n",
              "22                The Lagrangian in quantum mechanics   \n",
              "27     The fundamental equations of quantum mechanics   \n",
              "30  The reflection of electrons from standing ligh...   \n",
              "33       On the annihilation of electrons and protons   \n",
              "36  The physical interpretation of the quantum dyn...   \n",
              "\n",
              "                                          publication  \n",
              "5   Proceedings of the Royal Society of London. Se...  \n",
              "6   Proceedings of the Royal Society of London. Se...  \n",
              "7   Proceedings of the Cambridge Philosophical Soc...  \n",
              "8   Proceedings of the Royal Society of London. Se...  \n",
              "13  Proceedings of the Royal Society of London. Se...  \n",
              "18  Proceedings of the Royal Society of London. Se...  \n",
              "19  Proceedings of the Royal Society of London. Se...  \n",
              "20  Proceedings of the Royal Society of London. Se...  \n",
              "22                       Phys. Z. USSR 3, 64-72, 1933  \n",
              "27  Proceedings of the Royal Society of London. Se...  \n",
              "30  Mathematical Proceedings of the Cambridge Phil...  \n",
              "33  Mathematical Proceedings of the Cambridge Phil...  \n",
              "36  Proceedings of the Royal Society of London. Se...  "
            ],
            "text/html": [
              "\n",
              "  <div id=\"df-461306e2-5305-4034-b0e5-bad00ea7610d\">\n",
              "    <div class=\"colab-df-container\">\n",
              "      <div>\n",
              "<style scoped>\n",
              "    .dataframe tbody tr th:only-of-type {\n",
              "        vertical-align: middle;\n",
              "    }\n",
              "\n",
              "    .dataframe tbody tr th {\n",
              "        vertical-align: top;\n",
              "    }\n",
              "\n",
              "    .dataframe thead th {\n",
              "        text-align: right;\n",
              "    }\n",
              "</style>\n",
              "<table border=\"1\" class=\"dataframe\">\n",
              "  <thead>\n",
              "    <tr style=\"text-align: right;\">\n",
              "      <th></th>\n",
              "      <th>year</th>\n",
              "      <th>author</th>\n",
              "      <th>title</th>\n",
              "      <th>publication</th>\n",
              "    </tr>\n",
              "  </thead>\n",
              "  <tbody>\n",
              "    <tr>\n",
              "      <th>5</th>\n",
              "      <td>1928</td>\n",
              "      <td>PAM Dirac</td>\n",
              "      <td>The quantum theory of the electron</td>\n",
              "      <td>Proceedings of the Royal Society of London. Se...</td>\n",
              "    </tr>\n",
              "    <tr>\n",
              "      <th>6</th>\n",
              "      <td>1931</td>\n",
              "      <td>PAM Dirac</td>\n",
              "      <td>Quantised singularities in the electromagnetic...</td>\n",
              "      <td>Proceedings of the Royal Society of London. Se...</td>\n",
              "    </tr>\n",
              "    <tr>\n",
              "      <th>7</th>\n",
              "      <td>1930</td>\n",
              "      <td>PAM Dirac</td>\n",
              "      <td>Note on exchange phenomena in the Thomas atom</td>\n",
              "      <td>Proceedings of the Cambridge Philosophical Soc...</td>\n",
              "    </tr>\n",
              "    <tr>\n",
              "      <th>8</th>\n",
              "      <td>1927</td>\n",
              "      <td>PAM Dirac</td>\n",
              "      <td>The quantum theory of the emission and absorpt...</td>\n",
              "      <td>Proceedings of the Royal Society of London. Se...</td>\n",
              "    </tr>\n",
              "    <tr>\n",
              "      <th>13</th>\n",
              "      <td>1929</td>\n",
              "      <td>PAM Dirac</td>\n",
              "      <td>Quantum mechanics of many-electron systems</td>\n",
              "      <td>Proceedings of the Royal Society of London. Se...</td>\n",
              "    </tr>\n",
              "    <tr>\n",
              "      <th>18</th>\n",
              "      <td>1926</td>\n",
              "      <td>PAM Dirac</td>\n",
              "      <td>On the theory of quantum mechanics</td>\n",
              "      <td>Proceedings of the Royal Society of London. Se...</td>\n",
              "    </tr>\n",
              "    <tr>\n",
              "      <th>19</th>\n",
              "      <td>1930</td>\n",
              "      <td>PAM Dirac</td>\n",
              "      <td>A theory of electrons and protons</td>\n",
              "      <td>Proceedings of the Royal Society of London. Se...</td>\n",
              "    </tr>\n",
              "    <tr>\n",
              "      <th>20</th>\n",
              "      <td>1928</td>\n",
              "      <td>PAM Dirac</td>\n",
              "      <td>The quantum theory of the electron. Part II</td>\n",
              "      <td>Proceedings of the Royal Society of London. Se...</td>\n",
              "    </tr>\n",
              "    <tr>\n",
              "      <th>22</th>\n",
              "      <td>1933</td>\n",
              "      <td>PAM Dirac</td>\n",
              "      <td>The Lagrangian in quantum mechanics</td>\n",
              "      <td>Phys. Z. USSR 3, 64-72, 1933</td>\n",
              "    </tr>\n",
              "    <tr>\n",
              "      <th>27</th>\n",
              "      <td>1925</td>\n",
              "      <td>PAM Dirac</td>\n",
              "      <td>The fundamental equations of quantum mechanics</td>\n",
              "      <td>Proceedings of the Royal Society of London. Se...</td>\n",
              "    </tr>\n",
              "    <tr>\n",
              "      <th>30</th>\n",
              "      <td>1933</td>\n",
              "      <td>PL Kapitza, PAM Dirac</td>\n",
              "      <td>The reflection of electrons from standing ligh...</td>\n",
              "      <td>Mathematical Proceedings of the Cambridge Phil...</td>\n",
              "    </tr>\n",
              "    <tr>\n",
              "      <th>33</th>\n",
              "      <td>1930</td>\n",
              "      <td>PAM Dirac</td>\n",
              "      <td>On the annihilation of electrons and protons</td>\n",
              "      <td>Mathematical Proceedings of the Cambridge Phil...</td>\n",
              "    </tr>\n",
              "    <tr>\n",
              "      <th>36</th>\n",
              "      <td>1927</td>\n",
              "      <td>PAM Dirac</td>\n",
              "      <td>The physical interpretation of the quantum dyn...</td>\n",
              "      <td>Proceedings of the Royal Society of London. Se...</td>\n",
              "    </tr>\n",
              "  </tbody>\n",
              "</table>\n",
              "</div>\n",
              "      <button class=\"colab-df-convert\" onclick=\"convertToInteractive('df-461306e2-5305-4034-b0e5-bad00ea7610d')\"\n",
              "              title=\"Convert this dataframe to an interactive table.\"\n",
              "              style=\"display:none;\">\n",
              "        \n",
              "  <svg xmlns=\"http://www.w3.org/2000/svg\" height=\"24px\"viewBox=\"0 0 24 24\"\n",
              "       width=\"24px\">\n",
              "    <path d=\"M0 0h24v24H0V0z\" fill=\"none\"/>\n",
              "    <path d=\"M18.56 5.44l.94 2.06.94-2.06 2.06-.94-2.06-.94-.94-2.06-.94 2.06-2.06.94zm-11 1L8.5 8.5l.94-2.06 2.06-.94-2.06-.94L8.5 2.5l-.94 2.06-2.06.94zm10 10l.94 2.06.94-2.06 2.06-.94-2.06-.94-.94-2.06-.94 2.06-2.06.94z\"/><path d=\"M17.41 7.96l-1.37-1.37c-.4-.4-.92-.59-1.43-.59-.52 0-1.04.2-1.43.59L10.3 9.45l-7.72 7.72c-.78.78-.78 2.05 0 2.83L4 21.41c.39.39.9.59 1.41.59.51 0 1.02-.2 1.41-.59l7.78-7.78 2.81-2.81c.8-.78.8-2.07 0-2.86zM5.41 20L4 18.59l7.72-7.72 1.47 1.35L5.41 20z\"/>\n",
              "  </svg>\n",
              "      </button>\n",
              "      \n",
              "  <style>\n",
              "    .colab-df-container {\n",
              "      display:flex;\n",
              "      flex-wrap:wrap;\n",
              "      gap: 12px;\n",
              "    }\n",
              "\n",
              "    .colab-df-convert {\n",
              "      background-color: #E8F0FE;\n",
              "      border: none;\n",
              "      border-radius: 50%;\n",
              "      cursor: pointer;\n",
              "      display: none;\n",
              "      fill: #1967D2;\n",
              "      height: 32px;\n",
              "      padding: 0 0 0 0;\n",
              "      width: 32px;\n",
              "    }\n",
              "\n",
              "    .colab-df-convert:hover {\n",
              "      background-color: #E2EBFA;\n",
              "      box-shadow: 0px 1px 2px rgba(60, 64, 67, 0.3), 0px 1px 3px 1px rgba(60, 64, 67, 0.15);\n",
              "      fill: #174EA6;\n",
              "    }\n",
              "\n",
              "    [theme=dark] .colab-df-convert {\n",
              "      background-color: #3B4455;\n",
              "      fill: #D2E3FC;\n",
              "    }\n",
              "\n",
              "    [theme=dark] .colab-df-convert:hover {\n",
              "      background-color: #434B5C;\n",
              "      box-shadow: 0px 1px 3px 1px rgba(0, 0, 0, 0.15);\n",
              "      filter: drop-shadow(0px 1px 2px rgba(0, 0, 0, 0.3));\n",
              "      fill: #FFFFFF;\n",
              "    }\n",
              "  </style>\n",
              "\n",
              "      <script>\n",
              "        const buttonEl =\n",
              "          document.querySelector('#df-461306e2-5305-4034-b0e5-bad00ea7610d button.colab-df-convert');\n",
              "        buttonEl.style.display =\n",
              "          google.colab.kernel.accessAllowed ? 'block' : 'none';\n",
              "\n",
              "        async function convertToInteractive(key) {\n",
              "          const element = document.querySelector('#df-461306e2-5305-4034-b0e5-bad00ea7610d');\n",
              "          const dataTable =\n",
              "            await google.colab.kernel.invokeFunction('convertToInteractive',\n",
              "                                                     [key], {});\n",
              "          if (!dataTable) return;\n",
              "\n",
              "          const docLinkHtml = 'Like what you see? Visit the ' +\n",
              "            '<a target=\"_blank\" href=https://colab.research.google.com/notebooks/data_table.ipynb>data table notebook</a>'\n",
              "            + ' to learn more about interactive tables.';\n",
              "          element.innerHTML = '';\n",
              "          dataTable['output_type'] = 'display_data';\n",
              "          await google.colab.output.renderOutput(dataTable, element);\n",
              "          const docLink = document.createElement('div');\n",
              "          docLink.innerHTML = docLinkHtml;\n",
              "          element.appendChild(docLink);\n",
              "        }\n",
              "      </script>\n",
              "    </div>\n",
              "  </div>\n",
              "  "
            ]
          },
          "metadata": {},
          "execution_count": 67
        }
      ]
    },
    {
      "cell_type": "code",
      "source": [
        "df.to_csv('test.tsv',sep='\\t',index=False)"
      ],
      "metadata": {
        "id": "qXOG7ZvoJzO_"
      },
      "execution_count": null,
      "outputs": []
    },
    {
      "cell_type": "code",
      "source": [
        "def organic_results():\n",
        "    print(\"extracting organic results..\")\n",
        "\n",
        "    params = {\n",
        "        \"api_key\": API_KEY,\n",
        "        \"engine\": \"google_scholar\",\n",
        "        \"q\": \"Charles+Thomson+Rees+Wilson\",  # search query       # language\n",
        "        \"as_ylo\": \"1921\",  # from 2017\n",
        "        \"as_yhi\": \"1933\",  # to 2021\n",
        "        \"start\": \"0\"       # first page\n",
        "    }\n",
        "\n",
        "    search = GoogleSearch(params)\n",
        "\n",
        "    organic_results_data = []\n",
        "\n",
        "    count = 0\n",
        "\n",
        "    while count < 1:\n",
        "        results = search.get_dict()\n",
        "\n",
        "        print(f\"Currently extracting page №{results['serpapi_pagination']['current']}..\")\n",
        "\n",
        "        for result in results[\"organic_results\"]:\n",
        "            title = result[\"title\"]\n",
        "            publication_info_summary = result[\"publication_info\"][\"summary\"]\n",
        "            \n",
        "\n",
        "            organic_results_data.append({\n",
        "              \"title\": title,\n",
        "              \"publication_info_summary\": publication_info_summary,\n",
        "            })\n",
        "\n",
        "        if \"next\" in results[\"serpapi_pagination\"]:\n",
        "            search.params_dict.update(dict(parse_qsl(urlsplit(results[\"serpapi_pagination\"][\"next\"]).query)))\n",
        "            count +=1\n",
        "        else:\n",
        "            count = 4\n",
        "\n",
        "    return organic_results_data"
      ],
      "metadata": {
        "id": "aY7cAd-YMiog"
      },
      "execution_count": null,
      "outputs": []
    },
    {
      "cell_type": "code",
      "source": [
        "result = organic_results()\n",
        "result"
      ],
      "metadata": {
        "colab": {
          "base_uri": "https://localhost:8080/"
        },
        "id": "f98sSjpENFPS",
        "outputId": "93002afb-71e3-48cb-a1d5-895c52d56d6b"
      },
      "execution_count": null,
      "outputs": [
        {
          "output_type": "stream",
          "name": "stdout",
          "text": [
            "extracting organic results..\n",
            "https://serpapi.com/search\n",
            "Currently extracting page №1..\n"
          ]
        },
        {
          "output_type": "execute_result",
          "data": {
            "text/plain": [
              "[{'publication_info_summary': 'CTR Wilson - … Transactions of the Royal Society of …, 1921 - royalsocietypublishing.org',\n",
              "  'title': 'III. Investigations on lighting discharges and on the electric field of thunderstorms'},\n",
              " {'publication_info_summary': 'CTR Wilson - Proceedings of the Royal Society of …, 1923 - royalsocietypublishing.org',\n",
              "  'title': 'Investigation on x-rays and β-rays by the cloud method. Part II.—β-rays'},\n",
              " {'publication_info_summary': 'CTR Wilson - Proceedings of the Royal Society of …, 1923 - royalsocietypublishing.org',\n",
              "  'title': 'Investigations on X-rays and β-rays by the cloud method. Part 1.—X-rays'},\n",
              " {'publication_info_summary': 'CTR Wilson - Proceedings of the Royal Society of …, 1933 - royalsocietypublishing.org',\n",
              "  'title': 'On a new type of expansion apparatus'},\n",
              " {'publication_info_summary': 'JA Chalmers, AA Michelson - iopscience.iop.org',\n",
              "  'title': 'Presentation of the Duddell medal for 1931 to Charles Thomson Rees Wilson'},\n",
              " {'publication_info_summary': 'T President - Proceedings of the Physical Society, 1932',\n",
              "  'title': 'Presentation of the Duddell medal for 1931 to Charles Thomson Rees Wilson'},\n",
              " {'publication_info_summary': 'AA Michelson - Proceedings of the Physical Society (1926-1948), 1930 - iopscience.iop.org',\n",
              "  'title': 'Presentation of the Duddell medal for 1929'},\n",
              " {'publication_info_summary': 'American Association for the Advancement of … - …, 1929 - science.sciencemag.org',\n",
              "  'title': 'PRESENTATION OF THE JOHN FRITZ MEDAL TO PRESIDENT HOOVER'},\n",
              " {'publication_info_summary': 'F Perrin, CTR Wilson - 1922 - Les Presses Universitaires de …',\n",
              "  'title': \"Etude des trajectoires des rayons dans l'argon, par la méthode de CTR Wilson...\"},\n",
              " {'publication_info_summary': 'F Watt - 1922 - nature.com',\n",
              "  'title': 'The Royal Society Anniversary Meeting.'}]"
            ]
          },
          "metadata": {},
          "execution_count": 97
        }
      ]
    },
    {
      "cell_type": "code",
      "source": [
        "df = pd.DataFrame(result)\n",
        "df['author'] = df['publication_info_summary'].apply(lambda s: s.split('-')[0])\n",
        "df=df.drop(4)\n",
        "from dateutil.parser import parse\n",
        "def get_year(s):\n",
        "    return parse(s, fuzzy=True).year\n",
        "df['year'] = df['publication_info_summary'].apply(get_year)\n",
        "df = df[(df['year'] > 1920) & (df['year'] < 1934) ]\n",
        "df['publication'] = df['publication_info_summary'].apply(lambda s: s.split('-')[1])\n",
        "df['score'] = 1\n",
        "df = df[['year','author','title','publication','score']]\n",
        "df.to_csv('test.tsv',sep='\\t')\n",
        "df"
      ],
      "metadata": {
        "id": "ZCf4I5nLNU2y"
      },
      "execution_count": null,
      "outputs": []
    },
    {
      "cell_type": "code",
      "source": [
        ""
      ],
      "metadata": {
        "colab": {
          "base_uri": "https://localhost:8080/"
        },
        "id": "NaR7MvOEOaZ-",
        "outputId": "cc24372e-64e8-42df-e5fb-758abc6a98e1"
      },
      "execution_count": null,
      "outputs": [
        {
          "output_type": "execute_result",
          "data": {
            "text/plain": [
              "1927"
            ]
          },
          "metadata": {},
          "execution_count": 79
        }
      ]
    },
    {
      "cell_type": "code",
      "source": [
        "import requests\n",
        "import lxml.html as lh\n",
        "import pandas as pd\n",
        "from bs4 import BeautifulSoup\n"
      ],
      "metadata": {
        "id": "xyfnYccSjJ8Z"
      },
      "execution_count": null,
      "outputs": []
    },
    {
      "cell_type": "code",
      "source": [
        "with open('/content/Physics_Tree_url.txt') as f:\n",
        "  urls= f.read().splitlines() \n",
        "urls"
      ],
      "metadata": {
        "colab": {
          "base_uri": "https://localhost:8080/"
        },
        "id": "2soxnrI0oYp0",
        "outputId": "69096fdd-36f5-443e-c6e0-8301ef6a5a8d"
      },
      "execution_count": null,
      "outputs": [
        {
          "output_type": "execute_result",
          "data": {
            "text/plain": [
              "['https://academictree.org/physics/publications.php?pid=1943&searchstring=&showfilter=all',\n",
              " 'https://academictree.org/physics/publications.php?pid=1942&searchstring=&showfilter=all',\n",
              " 'https://academictree.org/physics/publications.php?pid=53856&searchstring=&showfilter=all',\n",
              " 'https://academictree.org/physics/publications.php?pid=71730&searchstring=&showfilter=all',\n",
              " 'https://academictree.org/physics/publications.php?pid=36673&searchstring=&showfilter=all',\n",
              " 'https://academictree.org/physics/publications.php?pid=51878&searchstring=&showfilter=all',\n",
              " 'https://academictree.org/physics/publications.php?pid=71500&searchstring=&showfilter=all',\n",
              " 'https://academictree.org/physics/publications.php?pid=25599&searchstring=&showfilter=all',\n",
              " 'https://academictree.org/chemistry/publications.php?pid=20839&searchstring=&showfilter=all',\n",
              " 'https://academictree.org/physics/publications.php?pid=23346&searchstring=&showfilter=all',\n",
              " 'https://academictree.org/physics/publications.php?pid=3611&searchstring=&showfilter=all',\n",
              " 'https://academictree.org/physics/publications.php?pid=35320&searchstring=&showfilter=all',\n",
              " 'https://academictree.org/physics/publications.php?pid=61718&searchstring=&showfilter=all',\n",
              " 'https://academictree.org/physics/publications.php?pid=1932&searchstring=&showfilter=all',\n",
              " 'https://academictree.org/physics/publications.php?pid=56515&searchstring=&showfilter=all',\n",
              " 'https://academictree.org/physics/publications.php?pid=23348&searchstring=&showfilter=all',\n",
              " 'https://academictree.org/physics/publications.php?pid=52379&searchstring=&showfilter=all',\n",
              " 'https://academictree.org/chemistry/publications.php?pid=20838&searchstring=&showfilter=all',\n",
              " 'https://academictree.org/physics/publications.php?pid=23414&searchstring=showfilter=all',\n",
              " 'https://academictree.org/physics/publications.php?pid=37965&searchstring=&showfilter=all',\n",
              " 'https://academictree.org/physics/publications.php?pid=51813&searchstring=&showfilter=all',\n",
              " 'https://academictree.org/physics/publications.php?pid=16601&searchstring=&showfilter=all',\n",
              " 'https://academictree.org/physics/publications.php?pid=36675&searchstring=&showfilter=all',\n",
              " 'https://academictree.org/physics/publications.php?pid=1954&searchstring=&showfilter=all',\n",
              " 'https://academictree.org/physics/publications.php?pid=861245&searchstring=&showfilter=all',\n",
              " 'https://academictree.org/physics/publications.php?pid=58622&searchstring=&showfilter=all']"
            ]
          },
          "metadata": {},
          "execution_count": 2
        }
      ]
    },
    {
      "cell_type": "code",
      "source": [
        "from google.colab import drive\n",
        "drive.mount('/content/drive')"
      ],
      "metadata": {
        "id": "Vj5XORsHPwSJ"
      },
      "execution_count": null,
      "outputs": []
    },
    {
      "cell_type": "code",
      "source": [
        "def get_publis(u):\n",
        "  dfs = pd.read_html(u)\n",
        "  if len(dfs) < 2:\n",
        "    print(\"no publications found in url :\" + u)\n",
        "    return None\n",
        "  else:\n",
        "    df = dfs[1]\n",
        "    df = df.drop(df.columns[df.columns.str.contains('unnamed',case = False)],axis = 1,)\n",
        "    print(\"publications found in url :\" + u)\n",
        "    return df\n"
      ],
      "metadata": {
        "id": "CFWjkoWu2BB-"
      },
      "execution_count": null,
      "outputs": []
    },
    {
      "cell_type": "code",
      "source": [
        "dfs=[]\n",
        "for url in urls:\n",
        "  df = get_publis(url)\n",
        "  dfs.append(df)\n",
        "\n",
        "dfs"
      ],
      "metadata": {
        "id": "9oW6yMMykWXX"
      },
      "execution_count": null,
      "outputs": []
    },
    {
      "cell_type": "code",
      "source": [
        "len(dfs)"
      ],
      "metadata": {
        "colab": {
          "base_uri": "https://localhost:8080/"
        },
        "id": "YwthAu0CmAR7",
        "outputId": "a5c7897c-07d3-4590-e318-8008dec72203"
      },
      "execution_count": null,
      "outputs": [
        {
          "output_type": "execute_result",
          "data": {
            "text/plain": [
              "26"
            ]
          },
          "metadata": {},
          "execution_count": 19
        }
      ]
    },
    {
      "cell_type": "code",
      "source": [
        "df_final = pd.concat(dfs)\n",
        "df_final = df_final[df_final['Year'] != 'Hide low-probability matches.']\n",
        "df_final = df_final[df_final['Year'] != 'Low-probability matches (unlikely to be authored by this person)']\n",
        "df_final['Year'] = df_final['Year'].apply(int)\n",
        "df_final = df_final[(df_final['Year'] > 1920) & (df_final['Year'] < 1934) ]"
      ],
      "metadata": {
        "id": "cxRC404ildyS"
      },
      "execution_count": null,
      "outputs": []
    },
    {
      "cell_type": "code",
      "source": [
        "df_final"
      ],
      "metadata": {
        "colab": {
          "base_uri": "https://localhost:8080/",
          "height": 424
        },
        "id": "aBBzIqh6wD9j",
        "outputId": "b52471a3-b188-4f98-9572-2571374723ea"
      },
      "execution_count": null,
      "outputs": [
        {
          "output_type": "execute_result",
          "data": {
            "text/plain": [
              "    Year                                           Citation  Score\n",
              "16  1933  Bohr N. Licht und Leben Naturwissenschaften. 2...  0.329\n",
              "17  1930  Bohr N. Die Atomtheorie und die Prinzipien der...  0.409\n",
              "18  1929  Bohr N. Wirkungsquantum und Naturbeschreibung ...  0.363\n",
              "19  1928  Bohr N. The Quantum Postulate and the Recent D...   0.31\n",
              "20  1928  Bohr N. Sommerfeld und die Atomtheorie Die Nat...  0.319\n",
              "..   ...                                                ...    ...\n",
              "52  1923  SchrÃ¶dinger E. Ãber eine bemerkenswerte Eige...  0.119\n",
              "53  1922  SchrÃ¶dinger E. Ãber die spezifische WÃ¤rme f...  0.119\n",
              "54  1922  SchrÃ¶dinger E. Ãber die spezifische WÃ¤rme f...  0.119\n",
              "55  1921  SchrÃ¶dinger E. Versuch zur modellmÃ¤Ãigen De...  0.119\n",
              "56  1921  SchrÃ¶dinger E. Isotopie und Gibbssches Parado...  0.119\n",
              "\n",
              "[511 rows x 3 columns]"
            ],
            "text/html": [
              "\n",
              "  <div id=\"df-aeeb7cdd-6c7d-4658-b74c-197481a8dc3c\">\n",
              "    <div class=\"colab-df-container\">\n",
              "      <div>\n",
              "<style scoped>\n",
              "    .dataframe tbody tr th:only-of-type {\n",
              "        vertical-align: middle;\n",
              "    }\n",
              "\n",
              "    .dataframe tbody tr th {\n",
              "        vertical-align: top;\n",
              "    }\n",
              "\n",
              "    .dataframe thead th {\n",
              "        text-align: right;\n",
              "    }\n",
              "</style>\n",
              "<table border=\"1\" class=\"dataframe\">\n",
              "  <thead>\n",
              "    <tr style=\"text-align: right;\">\n",
              "      <th></th>\n",
              "      <th>Year</th>\n",
              "      <th>Citation</th>\n",
              "      <th>Score</th>\n",
              "    </tr>\n",
              "  </thead>\n",
              "  <tbody>\n",
              "    <tr>\n",
              "      <th>16</th>\n",
              "      <td>1933</td>\n",
              "      <td>Bohr N. Licht und Leben Naturwissenschaften. 2...</td>\n",
              "      <td>0.329</td>\n",
              "    </tr>\n",
              "    <tr>\n",
              "      <th>17</th>\n",
              "      <td>1930</td>\n",
              "      <td>Bohr N. Die Atomtheorie und die Prinzipien der...</td>\n",
              "      <td>0.409</td>\n",
              "    </tr>\n",
              "    <tr>\n",
              "      <th>18</th>\n",
              "      <td>1929</td>\n",
              "      <td>Bohr N. Wirkungsquantum und Naturbeschreibung ...</td>\n",
              "      <td>0.363</td>\n",
              "    </tr>\n",
              "    <tr>\n",
              "      <th>19</th>\n",
              "      <td>1928</td>\n",
              "      <td>Bohr N. The Quantum Postulate and the Recent D...</td>\n",
              "      <td>0.31</td>\n",
              "    </tr>\n",
              "    <tr>\n",
              "      <th>20</th>\n",
              "      <td>1928</td>\n",
              "      <td>Bohr N. Sommerfeld und die Atomtheorie Die Nat...</td>\n",
              "      <td>0.319</td>\n",
              "    </tr>\n",
              "    <tr>\n",
              "      <th>...</th>\n",
              "      <td>...</td>\n",
              "      <td>...</td>\n",
              "      <td>...</td>\n",
              "    </tr>\n",
              "    <tr>\n",
              "      <th>52</th>\n",
              "      <td>1923</td>\n",
              "      <td>SchrÃ¶dinger E. Ãber eine bemerkenswerte Eige...</td>\n",
              "      <td>0.119</td>\n",
              "    </tr>\n",
              "    <tr>\n",
              "      <th>53</th>\n",
              "      <td>1922</td>\n",
              "      <td>SchrÃ¶dinger E. Ãber die spezifische WÃ¤rme f...</td>\n",
              "      <td>0.119</td>\n",
              "    </tr>\n",
              "    <tr>\n",
              "      <th>54</th>\n",
              "      <td>1922</td>\n",
              "      <td>SchrÃ¶dinger E. Ãber die spezifische WÃ¤rme f...</td>\n",
              "      <td>0.119</td>\n",
              "    </tr>\n",
              "    <tr>\n",
              "      <th>55</th>\n",
              "      <td>1921</td>\n",
              "      <td>SchrÃ¶dinger E. Versuch zur modellmÃ¤Ãigen De...</td>\n",
              "      <td>0.119</td>\n",
              "    </tr>\n",
              "    <tr>\n",
              "      <th>56</th>\n",
              "      <td>1921</td>\n",
              "      <td>SchrÃ¶dinger E. Isotopie und Gibbssches Parado...</td>\n",
              "      <td>0.119</td>\n",
              "    </tr>\n",
              "  </tbody>\n",
              "</table>\n",
              "<p>511 rows × 3 columns</p>\n",
              "</div>\n",
              "      <button class=\"colab-df-convert\" onclick=\"convertToInteractive('df-aeeb7cdd-6c7d-4658-b74c-197481a8dc3c')\"\n",
              "              title=\"Convert this dataframe to an interactive table.\"\n",
              "              style=\"display:none;\">\n",
              "        \n",
              "  <svg xmlns=\"http://www.w3.org/2000/svg\" height=\"24px\"viewBox=\"0 0 24 24\"\n",
              "       width=\"24px\">\n",
              "    <path d=\"M0 0h24v24H0V0z\" fill=\"none\"/>\n",
              "    <path d=\"M18.56 5.44l.94 2.06.94-2.06 2.06-.94-2.06-.94-.94-2.06-.94 2.06-2.06.94zm-11 1L8.5 8.5l.94-2.06 2.06-.94-2.06-.94L8.5 2.5l-.94 2.06-2.06.94zm10 10l.94 2.06.94-2.06 2.06-.94-2.06-.94-.94-2.06-.94 2.06-2.06.94z\"/><path d=\"M17.41 7.96l-1.37-1.37c-.4-.4-.92-.59-1.43-.59-.52 0-1.04.2-1.43.59L10.3 9.45l-7.72 7.72c-.78.78-.78 2.05 0 2.83L4 21.41c.39.39.9.59 1.41.59.51 0 1.02-.2 1.41-.59l7.78-7.78 2.81-2.81c.8-.78.8-2.07 0-2.86zM5.41 20L4 18.59l7.72-7.72 1.47 1.35L5.41 20z\"/>\n",
              "  </svg>\n",
              "      </button>\n",
              "      \n",
              "  <style>\n",
              "    .colab-df-container {\n",
              "      display:flex;\n",
              "      flex-wrap:wrap;\n",
              "      gap: 12px;\n",
              "    }\n",
              "\n",
              "    .colab-df-convert {\n",
              "      background-color: #E8F0FE;\n",
              "      border: none;\n",
              "      border-radius: 50%;\n",
              "      cursor: pointer;\n",
              "      display: none;\n",
              "      fill: #1967D2;\n",
              "      height: 32px;\n",
              "      padding: 0 0 0 0;\n",
              "      width: 32px;\n",
              "    }\n",
              "\n",
              "    .colab-df-convert:hover {\n",
              "      background-color: #E2EBFA;\n",
              "      box-shadow: 0px 1px 2px rgba(60, 64, 67, 0.3), 0px 1px 3px 1px rgba(60, 64, 67, 0.15);\n",
              "      fill: #174EA6;\n",
              "    }\n",
              "\n",
              "    [theme=dark] .colab-df-convert {\n",
              "      background-color: #3B4455;\n",
              "      fill: #D2E3FC;\n",
              "    }\n",
              "\n",
              "    [theme=dark] .colab-df-convert:hover {\n",
              "      background-color: #434B5C;\n",
              "      box-shadow: 0px 1px 3px 1px rgba(0, 0, 0, 0.15);\n",
              "      filter: drop-shadow(0px 1px 2px rgba(0, 0, 0, 0.3));\n",
              "      fill: #FFFFFF;\n",
              "    }\n",
              "  </style>\n",
              "\n",
              "      <script>\n",
              "        const buttonEl =\n",
              "          document.querySelector('#df-aeeb7cdd-6c7d-4658-b74c-197481a8dc3c button.colab-df-convert');\n",
              "        buttonEl.style.display =\n",
              "          google.colab.kernel.accessAllowed ? 'block' : 'none';\n",
              "\n",
              "        async function convertToInteractive(key) {\n",
              "          const element = document.querySelector('#df-aeeb7cdd-6c7d-4658-b74c-197481a8dc3c');\n",
              "          const dataTable =\n",
              "            await google.colab.kernel.invokeFunction('convertToInteractive',\n",
              "                                                     [key], {});\n",
              "          if (!dataTable) return;\n",
              "\n",
              "          const docLinkHtml = 'Like what you see? Visit the ' +\n",
              "            '<a target=\"_blank\" href=https://colab.research.google.com/notebooks/data_table.ipynb>data table notebook</a>'\n",
              "            + ' to learn more about interactive tables.';\n",
              "          element.innerHTML = '';\n",
              "          dataTable['output_type'] = 'display_data';\n",
              "          await google.colab.output.renderOutput(dataTable, element);\n",
              "          const docLink = document.createElement('div');\n",
              "          docLink.innerHTML = docLinkHtml;\n",
              "          element.appendChild(docLink);\n",
              "        }\n",
              "      </script>\n",
              "    </div>\n",
              "  </div>\n",
              "  "
            ]
          },
          "metadata": {},
          "execution_count": 34
        }
      ]
    },
    {
      "cell_type": "code",
      "source": [
        "df_final.to_csv('publication_raw.tsv',sep='\\t')"
      ],
      "metadata": {
        "id": "bbBDJa1Dx-ng"
      },
      "execution_count": null,
      "outputs": []
    },
    {
      "cell_type": "code",
      "source": [
        "df_precessed=pd.read_csv('/content/drive/MyDrive/H&D/publication_raw.tsv',sep='\\t')\n",
        "df_precessed"
      ],
      "metadata": {
        "colab": {
          "base_uri": "https://localhost:8080/",
          "height": 424
        },
        "id": "reGG9cnkz7dj",
        "outputId": "b8097381-81e5-4e2c-87bc-db6d625bcf2d"
      },
      "execution_count": null,
      "outputs": [
        {
          "output_type": "execute_result",
          "data": {
            "text/plain": [
              "     no  Year          Authors  \\\n",
              "0    16  1933         Bohr N.    \n",
              "1    17  1930         Bohr N.    \n",
              "2    18  1929         Bohr N.    \n",
              "3    19  1928         Bohr N.    \n",
              "4    20  1928         Bohr N.    \n",
              "..   ..   ...              ...   \n",
              "459  52  1923  SchrÃdinger E.    \n",
              "460  53  1922  SchrÃdinger E.    \n",
              "461  54  1922  SchrÃdinger E.    \n",
              "462  55  1921  SchrÃdinger E.    \n",
              "463  56  1921  SchrÃdinger E.    \n",
              "\n",
              "                                              Citation  \\\n",
              "0                                     Licht und Leben    \n",
              "1    Die Atomtheorie und die Prinzipien der Naturbe...   \n",
              "2               Wirkungsquantum und Naturbeschreibung    \n",
              "3    The Quantum Postulate and the Recent Developme...   \n",
              "4                      Sommerfeld und die Atomtheorie    \n",
              "..                                                 ...   \n",
              "459  Ãber eine bemerkenswerte Eigenschaft der Quan...   \n",
              "460    Ãber die spezifische WÃ¤rme fester KÃrper usw    \n",
              "461  Ãber die spezifische WÃ¤rme fester KÃrper bei...   \n",
              "462  Versuch zur modellmÃ¤Ãigen Deutung des Terms ...   \n",
              "463                 Isotopie und Gibbssches Paradoxon    \n",
              "\n",
              "                                           publication  Score  \n",
              "0    Naturwissenschaften. 21: 245-250. DOI: 10.1007...  0.329  \n",
              "1    Die Naturwissenschaften. 18: 73-78. DOI: 10.10...  0.409  \n",
              "2    Die Naturwissenschaften. 17: 483-486. DOI: 10....  0.363  \n",
              "3          Nature. 121: 580-590. DOI: 10.1038/121580A0  0.310  \n",
              "4    Die Naturwissenschaften. 16: 1036. DOI: 10.100...  0.319  \n",
              "..                                                 ...    ...  \n",
              "459  Zeitschrift FüR Physik. 12: 13-23. DOI: 10.100...  0.119  \n",
              "460  Zeitschrift FüR Physik. 11: 396. DOI: 10.1007/...  0.119  \n",
              "461  Zeitschrift FüR Physik. 11: 170-176. DOI: 10.1...  0.119  \n",
              "462  Zeitschrift FüR Physik. 4: 347-354. DOI: 10.10...  0.119  \n",
              "463  Zeitschrift FüR Physik. 5: 163-166. DOI: 10.10...  0.119  \n",
              "\n",
              "[464 rows x 6 columns]"
            ],
            "text/html": [
              "\n",
              "  <div id=\"df-efd2a4a5-409b-4e27-8acf-ac5db3e1fc89\">\n",
              "    <div class=\"colab-df-container\">\n",
              "      <div>\n",
              "<style scoped>\n",
              "    .dataframe tbody tr th:only-of-type {\n",
              "        vertical-align: middle;\n",
              "    }\n",
              "\n",
              "    .dataframe tbody tr th {\n",
              "        vertical-align: top;\n",
              "    }\n",
              "\n",
              "    .dataframe thead th {\n",
              "        text-align: right;\n",
              "    }\n",
              "</style>\n",
              "<table border=\"1\" class=\"dataframe\">\n",
              "  <thead>\n",
              "    <tr style=\"text-align: right;\">\n",
              "      <th></th>\n",
              "      <th>no</th>\n",
              "      <th>Year</th>\n",
              "      <th>Authors</th>\n",
              "      <th>Citation</th>\n",
              "      <th>publication</th>\n",
              "      <th>Score</th>\n",
              "    </tr>\n",
              "  </thead>\n",
              "  <tbody>\n",
              "    <tr>\n",
              "      <th>0</th>\n",
              "      <td>16</td>\n",
              "      <td>1933</td>\n",
              "      <td>Bohr N.</td>\n",
              "      <td>Licht und Leben</td>\n",
              "      <td>Naturwissenschaften. 21: 245-250. DOI: 10.1007...</td>\n",
              "      <td>0.329</td>\n",
              "    </tr>\n",
              "    <tr>\n",
              "      <th>1</th>\n",
              "      <td>17</td>\n",
              "      <td>1930</td>\n",
              "      <td>Bohr N.</td>\n",
              "      <td>Die Atomtheorie und die Prinzipien der Naturbe...</td>\n",
              "      <td>Die Naturwissenschaften. 18: 73-78. DOI: 10.10...</td>\n",
              "      <td>0.409</td>\n",
              "    </tr>\n",
              "    <tr>\n",
              "      <th>2</th>\n",
              "      <td>18</td>\n",
              "      <td>1929</td>\n",
              "      <td>Bohr N.</td>\n",
              "      <td>Wirkungsquantum und Naturbeschreibung</td>\n",
              "      <td>Die Naturwissenschaften. 17: 483-486. DOI: 10....</td>\n",
              "      <td>0.363</td>\n",
              "    </tr>\n",
              "    <tr>\n",
              "      <th>3</th>\n",
              "      <td>19</td>\n",
              "      <td>1928</td>\n",
              "      <td>Bohr N.</td>\n",
              "      <td>The Quantum Postulate and the Recent Developme...</td>\n",
              "      <td>Nature. 121: 580-590. DOI: 10.1038/121580A0</td>\n",
              "      <td>0.310</td>\n",
              "    </tr>\n",
              "    <tr>\n",
              "      <th>4</th>\n",
              "      <td>20</td>\n",
              "      <td>1928</td>\n",
              "      <td>Bohr N.</td>\n",
              "      <td>Sommerfeld und die Atomtheorie</td>\n",
              "      <td>Die Naturwissenschaften. 16: 1036. DOI: 10.100...</td>\n",
              "      <td>0.319</td>\n",
              "    </tr>\n",
              "    <tr>\n",
              "      <th>...</th>\n",
              "      <td>...</td>\n",
              "      <td>...</td>\n",
              "      <td>...</td>\n",
              "      <td>...</td>\n",
              "      <td>...</td>\n",
              "      <td>...</td>\n",
              "    </tr>\n",
              "    <tr>\n",
              "      <th>459</th>\n",
              "      <td>52</td>\n",
              "      <td>1923</td>\n",
              "      <td>SchrÃdinger E.</td>\n",
              "      <td>Ãber eine bemerkenswerte Eigenschaft der Quan...</td>\n",
              "      <td>Zeitschrift FüR Physik. 12: 13-23. DOI: 10.100...</td>\n",
              "      <td>0.119</td>\n",
              "    </tr>\n",
              "    <tr>\n",
              "      <th>460</th>\n",
              "      <td>53</td>\n",
              "      <td>1922</td>\n",
              "      <td>SchrÃdinger E.</td>\n",
              "      <td>Ãber die spezifische WÃ¤rme fester KÃrper usw</td>\n",
              "      <td>Zeitschrift FüR Physik. 11: 396. DOI: 10.1007/...</td>\n",
              "      <td>0.119</td>\n",
              "    </tr>\n",
              "    <tr>\n",
              "      <th>461</th>\n",
              "      <td>54</td>\n",
              "      <td>1922</td>\n",
              "      <td>SchrÃdinger E.</td>\n",
              "      <td>Ãber die spezifische WÃ¤rme fester KÃrper bei...</td>\n",
              "      <td>Zeitschrift FüR Physik. 11: 170-176. DOI: 10.1...</td>\n",
              "      <td>0.119</td>\n",
              "    </tr>\n",
              "    <tr>\n",
              "      <th>462</th>\n",
              "      <td>55</td>\n",
              "      <td>1921</td>\n",
              "      <td>SchrÃdinger E.</td>\n",
              "      <td>Versuch zur modellmÃ¤Ãigen Deutung des Terms ...</td>\n",
              "      <td>Zeitschrift FüR Physik. 4: 347-354. DOI: 10.10...</td>\n",
              "      <td>0.119</td>\n",
              "    </tr>\n",
              "    <tr>\n",
              "      <th>463</th>\n",
              "      <td>56</td>\n",
              "      <td>1921</td>\n",
              "      <td>SchrÃdinger E.</td>\n",
              "      <td>Isotopie und Gibbssches Paradoxon</td>\n",
              "      <td>Zeitschrift FüR Physik. 5: 163-166. DOI: 10.10...</td>\n",
              "      <td>0.119</td>\n",
              "    </tr>\n",
              "  </tbody>\n",
              "</table>\n",
              "<p>464 rows × 6 columns</p>\n",
              "</div>\n",
              "      <button class=\"colab-df-convert\" onclick=\"convertToInteractive('df-efd2a4a5-409b-4e27-8acf-ac5db3e1fc89')\"\n",
              "              title=\"Convert this dataframe to an interactive table.\"\n",
              "              style=\"display:none;\">\n",
              "        \n",
              "  <svg xmlns=\"http://www.w3.org/2000/svg\" height=\"24px\"viewBox=\"0 0 24 24\"\n",
              "       width=\"24px\">\n",
              "    <path d=\"M0 0h24v24H0V0z\" fill=\"none\"/>\n",
              "    <path d=\"M18.56 5.44l.94 2.06.94-2.06 2.06-.94-2.06-.94-.94-2.06-.94 2.06-2.06.94zm-11 1L8.5 8.5l.94-2.06 2.06-.94-2.06-.94L8.5 2.5l-.94 2.06-2.06.94zm10 10l.94 2.06.94-2.06 2.06-.94-2.06-.94-.94-2.06-.94 2.06-2.06.94z\"/><path d=\"M17.41 7.96l-1.37-1.37c-.4-.4-.92-.59-1.43-.59-.52 0-1.04.2-1.43.59L10.3 9.45l-7.72 7.72c-.78.78-.78 2.05 0 2.83L4 21.41c.39.39.9.59 1.41.59.51 0 1.02-.2 1.41-.59l7.78-7.78 2.81-2.81c.8-.78.8-2.07 0-2.86zM5.41 20L4 18.59l7.72-7.72 1.47 1.35L5.41 20z\"/>\n",
              "  </svg>\n",
              "      </button>\n",
              "      \n",
              "  <style>\n",
              "    .colab-df-container {\n",
              "      display:flex;\n",
              "      flex-wrap:wrap;\n",
              "      gap: 12px;\n",
              "    }\n",
              "\n",
              "    .colab-df-convert {\n",
              "      background-color: #E8F0FE;\n",
              "      border: none;\n",
              "      border-radius: 50%;\n",
              "      cursor: pointer;\n",
              "      display: none;\n",
              "      fill: #1967D2;\n",
              "      height: 32px;\n",
              "      padding: 0 0 0 0;\n",
              "      width: 32px;\n",
              "    }\n",
              "\n",
              "    .colab-df-convert:hover {\n",
              "      background-color: #E2EBFA;\n",
              "      box-shadow: 0px 1px 2px rgba(60, 64, 67, 0.3), 0px 1px 3px 1px rgba(60, 64, 67, 0.15);\n",
              "      fill: #174EA6;\n",
              "    }\n",
              "\n",
              "    [theme=dark] .colab-df-convert {\n",
              "      background-color: #3B4455;\n",
              "      fill: #D2E3FC;\n",
              "    }\n",
              "\n",
              "    [theme=dark] .colab-df-convert:hover {\n",
              "      background-color: #434B5C;\n",
              "      box-shadow: 0px 1px 3px 1px rgba(0, 0, 0, 0.15);\n",
              "      filter: drop-shadow(0px 1px 2px rgba(0, 0, 0, 0.3));\n",
              "      fill: #FFFFFF;\n",
              "    }\n",
              "  </style>\n",
              "\n",
              "      <script>\n",
              "        const buttonEl =\n",
              "          document.querySelector('#df-efd2a4a5-409b-4e27-8acf-ac5db3e1fc89 button.colab-df-convert');\n",
              "        buttonEl.style.display =\n",
              "          google.colab.kernel.accessAllowed ? 'block' : 'none';\n",
              "\n",
              "        async function convertToInteractive(key) {\n",
              "          const element = document.querySelector('#df-efd2a4a5-409b-4e27-8acf-ac5db3e1fc89');\n",
              "          const dataTable =\n",
              "            await google.colab.kernel.invokeFunction('convertToInteractive',\n",
              "                                                     [key], {});\n",
              "          if (!dataTable) return;\n",
              "\n",
              "          const docLinkHtml = 'Like what you see? Visit the ' +\n",
              "            '<a target=\"_blank\" href=https://colab.research.google.com/notebooks/data_table.ipynb>data table notebook</a>'\n",
              "            + ' to learn more about interactive tables.';\n",
              "          element.innerHTML = '';\n",
              "          dataTable['output_type'] = 'display_data';\n",
              "          await google.colab.output.renderOutput(dataTable, element);\n",
              "          const docLink = document.createElement('div');\n",
              "          docLink.innerHTML = docLinkHtml;\n",
              "          element.appendChild(docLink);\n",
              "        }\n",
              "      </script>\n",
              "    </div>\n",
              "  </div>\n",
              "  "
            ]
          },
          "metadata": {},
          "execution_count": 3
        }
      ]
    },
    {
      "cell_type": "code",
      "source": [
        "! pip install langdetect"
      ],
      "metadata": {
        "colab": {
          "base_uri": "https://localhost:8080/"
        },
        "id": "n56_KuO8QNOO",
        "outputId": "5c6f6108-fcbd-42c1-a617-c56cd94f70d0"
      },
      "execution_count": null,
      "outputs": [
        {
          "output_type": "stream",
          "name": "stdout",
          "text": [
            "Looking in indexes: https://pypi.org/simple, https://us-python.pkg.dev/colab-wheels/public/simple/\n",
            "Collecting langdetect\n",
            "  Downloading langdetect-1.0.9.tar.gz (981 kB)\n",
            "\u001b[K     |████████████████████████████████| 981 kB 5.2 MB/s \n",
            "\u001b[?25hRequirement already satisfied: six in /usr/local/lib/python3.7/dist-packages (from langdetect) (1.15.0)\n",
            "Building wheels for collected packages: langdetect\n",
            "  Building wheel for langdetect (setup.py) ... \u001b[?25l\u001b[?25hdone\n",
            "  Created wheel for langdetect: filename=langdetect-1.0.9-py3-none-any.whl size=993242 sha256=6df07cd3ee1ee88da72d7c1018b6af60a258942310676c8318e665a747bd2102\n",
            "  Stored in directory: /root/.cache/pip/wheels/c5/96/8a/f90c59ed25d75e50a8c10a1b1c2d4c402e4dacfa87f3aff36a\n",
            "Successfully built langdetect\n",
            "Installing collected packages: langdetect\n",
            "Successfully installed langdetect-1.0.9\n"
          ]
        }
      ]
    },
    {
      "cell_type": "code",
      "source": [
        "from langdetect import detect\n",
        "\n",
        "s = 'Isotopie und Gibbssches Paradoxon'\n",
        "detect(s)"
      ],
      "metadata": {
        "colab": {
          "base_uri": "https://localhost:8080/",
          "height": 35
        },
        "id": "0DUACK-GQYdG",
        "outputId": "64c33d6c-831f-42a1-9815-d11c5addeddd"
      },
      "execution_count": null,
      "outputs": [
        {
          "output_type": "execute_result",
          "data": {
            "text/plain": [
              "'de'"
            ],
            "application/vnd.google.colaboratory.intrinsic+json": {
              "type": "string"
            }
          },
          "metadata": {},
          "execution_count": 5
        }
      ]
    }
  ]
}